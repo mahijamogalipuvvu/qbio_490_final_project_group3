{
 "cells": [
  {
   "cell_type": "markdown",
   "id": "dd14254f",
   "metadata": {},
   "source": [
    "Import Necessary libraries and change directory"
   ]
  },
  {
   "cell_type": "code",
   "execution_count": 1,
   "id": "27cfc48b",
   "metadata": {},
   "outputs": [],
   "source": [
    "import cptac\n",
    "import numpy as np\n",
    "import pandas as pd\n",
    "import os\n",
    "import matplotlib.pyplot as plt\n",
    "\n",
    "import warnings\n",
    "warnings.filterwarnings('ignore')"
   ]
  },
  {
   "cell_type": "code",
   "execution_count": 5,
   "id": "75b730bd",
   "metadata": {},
   "outputs": [],
   "source": [
    "os.chdir('/mnt/c/Users/alanx/OneDrive/Desktop/QBIO490/analysis_data/')"
   ]
  },
  {
   "cell_type": "code",
   "execution_count": 15,
   "id": "020a5425",
   "metadata": {},
   "outputs": [
    {
     "name": "stdout",
     "output_type": "stream",
     "text": [
      "                                        \r"
     ]
    }
   ],
   "source": [
    "# Downloading and loading GBM Data from CPTAC\n",
    "cptac.download('GBM')\n",
    "gbm = cptac.Gbm()\n",
    "\n",
    "clinical = gbm.get_clinical() # Clinical Data\n",
    "mutation = gbm.get_somatic_mutation() # Genomic Data\n",
    "rna = gbm.get_transcriptomics() # Transcriptomic Data\n",
    "protein = gbm.get_proteomics() # Proteomic Data\n",
    "protein.columns = protein.columns.get_level_values(0) # Fix protein data columns"
   ]
  },
  {
   "cell_type": "code",
   "execution_count": 16,
   "id": "2262c424",
   "metadata": {},
   "outputs": [],
   "source": [
    "# Only retaining cancerous tissues\n",
    "cancer_mask = clinical.loc[:,\"Sample_Tumor_Normal\"] == \"Tumor\"\n",
    "clinical_ca = clinical.loc[cancer_mask,:]\n",
    "rna_ca = rna.loc[cancer_mask,:]\n",
    "protein_ca = protein.loc[cancer_mask,:]"
   ]
  },
  {
   "cell_type": "code",
   "execution_count": 96,
   "id": "9c62ace5",
   "metadata": {},
   "outputs": [],
   "source": [
    "# Retaining only patients with tumor re-occurence info\n",
    "vit_mask = clinical.loc[:,\"tumor_reoccur_after_treatment\"].notna()\n",
    "clinical_ca_vit = clinical_ca.loc[vit_mask,:]\n",
    "rna_ca_vit = rna_ca.loc[vit_mask,:]\n",
    "protein_ca_vit = protein_ca.loc[vit_mask,:]"
   ]
  },
  {
   "cell_type": "code",
   "execution_count": 101,
   "id": "ed46a3f8",
   "metadata": {},
   "outputs": [
    {
     "data": {
      "text/plain": [
       "0"
      ]
     },
     "execution_count": 101,
     "metadata": {},
     "output_type": "execute_result"
    }
   ],
   "source": [
    "# Retaining patients with ALDOB protein expression & ATF4 RNA Expression\n",
    "aldob = protein_ca_vit.loc[:,\"ALDOB\"].notna()\n",
    "sum(aldob == False)"
   ]
  },
  {
   "cell_type": "code",
   "execution_count": 109,
   "id": "45c6a16c",
   "metadata": {},
   "outputs": [
    {
     "data": {
      "text/plain": [
       "0"
      ]
     },
     "execution_count": 109,
     "metadata": {},
     "output_type": "execute_result"
    }
   ],
   "source": [
    "atf4 = rna_ca_vit.loc[:,\"ATF4\"].notna()\n",
    "sum(atf4.loc[:,'ENSG00000128272.13'] == False)"
   ]
  },
  {
   "cell_type": "code",
   "execution_count": 151,
   "id": "f28efd3b",
   "metadata": {},
   "outputs": [
    {
     "data": {
      "text/html": [
       "<div>\n",
       "<style scoped>\n",
       "    .dataframe tbody tr th:only-of-type {\n",
       "        vertical-align: middle;\n",
       "    }\n",
       "\n",
       "    .dataframe tbody tr th {\n",
       "        vertical-align: top;\n",
       "    }\n",
       "\n",
       "    .dataframe thead th {\n",
       "        text-align: right;\n",
       "    }\n",
       "</style>\n",
       "<table border=\"1\" class=\"dataframe\">\n",
       "  <thead>\n",
       "    <tr style=\"text-align: right;\">\n",
       "      <th></th>\n",
       "      <th>ENSG00000128272.13</th>\n",
       "      <th>ALDOB</th>\n",
       "    </tr>\n",
       "    <tr>\n",
       "      <th>Patient_ID</th>\n",
       "      <th></th>\n",
       "      <th></th>\n",
       "    </tr>\n",
       "  </thead>\n",
       "  <tbody>\n",
       "    <tr>\n",
       "      <th>C3L-00104</th>\n",
       "      <td>1.534000e+06</td>\n",
       "      <td>0.448224</td>\n",
       "    </tr>\n",
       "    <tr>\n",
       "      <th>C3L-00674</th>\n",
       "      <td>1.514208e+06</td>\n",
       "      <td>0.729797</td>\n",
       "    </tr>\n",
       "    <tr>\n",
       "      <th>C3L-01040</th>\n",
       "      <td>1.049490e+06</td>\n",
       "      <td>-0.704124</td>\n",
       "    </tr>\n",
       "    <tr>\n",
       "      <th>C3L-01048</th>\n",
       "      <td>1.287048e+06</td>\n",
       "      <td>-0.665132</td>\n",
       "    </tr>\n",
       "    <tr>\n",
       "      <th>C3L-01061</th>\n",
       "      <td>1.685317e+06</td>\n",
       "      <td>0.329687</td>\n",
       "    </tr>\n",
       "    <tr>\n",
       "      <th>...</th>\n",
       "      <td>...</td>\n",
       "      <td>...</td>\n",
       "    </tr>\n",
       "    <tr>\n",
       "      <th>C3N-03070</th>\n",
       "      <td>1.540373e+06</td>\n",
       "      <td>0.342134</td>\n",
       "    </tr>\n",
       "    <tr>\n",
       "      <th>C3N-03088</th>\n",
       "      <td>1.115616e+06</td>\n",
       "      <td>-0.256082</td>\n",
       "    </tr>\n",
       "    <tr>\n",
       "      <th>C3N-03182</th>\n",
       "      <td>2.442597e+06</td>\n",
       "      <td>-0.468068</td>\n",
       "    </tr>\n",
       "    <tr>\n",
       "      <th>C3N-03186</th>\n",
       "      <td>1.935069e+06</td>\n",
       "      <td>0.404613</td>\n",
       "    </tr>\n",
       "    <tr>\n",
       "      <th>C3N-03188</th>\n",
       "      <td>8.865269e+05</td>\n",
       "      <td>-0.218526</td>\n",
       "    </tr>\n",
       "  </tbody>\n",
       "</table>\n",
       "<p>66 rows × 2 columns</p>\n",
       "</div>"
      ],
      "text/plain": [
       "            ENSG00000128272.13     ALDOB\n",
       "Patient_ID                              \n",
       "C3L-00104         1.534000e+06  0.448224\n",
       "C3L-00674         1.514208e+06  0.729797\n",
       "C3L-01040         1.049490e+06 -0.704124\n",
       "C3L-01048         1.287048e+06 -0.665132\n",
       "C3L-01061         1.685317e+06  0.329687\n",
       "...                        ...       ...\n",
       "C3N-03070         1.540373e+06  0.342134\n",
       "C3N-03088         1.115616e+06 -0.256082\n",
       "C3N-03182         2.442597e+06 -0.468068\n",
       "C3N-03186         1.935069e+06  0.404613\n",
       "C3N-03188         8.865269e+05 -0.218526\n",
       "\n",
       "[66 rows x 2 columns]"
      ]
     },
     "execution_count": 151,
     "metadata": {},
     "output_type": "execute_result"
    }
   ],
   "source": [
    "# Constructing the data and target columns\n",
    "data = rna_ca_vit.loc[:,'ATF4']\n",
    "data = data.join(protein_ca_vit.loc[:,'ALDOB'])\n",
    "data"
   ]
  },
  {
   "cell_type": "code",
   "execution_count": 138,
   "id": "256c621e",
   "metadata": {},
   "outputs": [
    {
     "data": {
      "text/plain": [
       "Patient_ID\n",
       "C3L-00104    False\n",
       "C3L-00674     True\n",
       "C3L-01040    False\n",
       "C3L-01048    False\n",
       "C3L-01061    False\n",
       "             ...  \n",
       "C3N-03070    False\n",
       "C3N-03088    False\n",
       "C3N-03182     True\n",
       "C3N-03186     True\n",
       "C3N-03188     True\n",
       "Name: tumor_reoccur_after_treatment, Length: 66, dtype: object"
      ]
     },
     "execution_count": 138,
     "metadata": {},
     "output_type": "execute_result"
    }
   ],
   "source": [
    "clinical_ca_vit.loc[:,'tumor_reoccur_after_treatment']"
   ]
  },
  {
   "cell_type": "code",
   "execution_count": 210,
   "id": "7f05534a",
   "metadata": {
    "scrolled": false
   },
   "outputs": [
    {
     "data": {
      "text/plain": [
       "Text(0.5, 0, 'ML Method')"
      ]
     },
     "execution_count": 210,
     "metadata": {},
     "output_type": "execute_result"
    },
    {
     "data": {
      "image/png": "[encoded data removed]",
      "text/plain": [
       "<Figure size 640x480 with 1 Axes>"
      ]
     },
     "metadata": {},
     "output_type": "display_data"
    }
   ],
   "source": [
    "# Import necessary packages\n",
    "from sklearn.model_selection import train_test_split\n",
    "from sklearn.preprocessing import StandardScaler\n",
    "from sklearn.neighbors import KNeighborsClassifier # default number of neighbors looked at is 5\n",
    "from sklearn.tree import DecisionTreeClassifier\n",
    "from sklearn.neural_network import MLPClassifier\n",
    "from sklearn.naive_bayes import GaussianNB\n",
    "\n",
    "# Scaling the Data\n",
    "scaler = StandardScaler()\n",
    "data_x = scaler.fit_transform(data)\n",
    "\n",
    "# Encoding the Result\n",
    "encoder = OrdinalEncoder()\n",
    "target = encoder.fit_transform(clinical_ca_vit.loc[:,'tumor_reoccur_after_treatment'].to_frame())\n",
    "\n",
    "# set classifiers\n",
    "classifiers = [\n",
    "    KNeighborsClassifier(),\n",
    "    DecisionTreeClassifier(),\n",
    "    MLPClassifier(),\n",
    "    GaussianNB()\n",
    "]\n",
    "\n",
    "classifiers_names = ['Nearest Neighbors', 'Decision Tree', 'Multilayer Perceptron', 'Naive-Bayes']\n",
    "\n",
    "X_train, X_test, y_train, y_test = train_test_split(data_x, target, train_size=0.8)\n",
    "\n",
    "# Training; testing and plotting\n",
    "result = []\n",
    "for i in range(len(classifiers)):\n",
    "    model = classifiers[i]\n",
    "    model.fit(X_train,y_train)\n",
    "    y_pred = model.predict(X_test)\n",
    "    count = 0\n",
    "    for j in range(len(y_pred)):\n",
    "        if y_pred[j] == y_test[j]:\n",
    "            count += 1\n",
    "    result.append(count / len(y_test))\n",
    "fig, axs = plt.subplots(1,1, constrained_layout=True)\n",
    "axs.bar(classifiers_names,result)\n",
    "axs.set_title(\"Accuracy of ML Methods to Determine If Patient's GBM Reoccur\")\n",
    "axs.set_ylabel(\"Accuracy\")\n",
    "axs.set_xlabel(\"ML Method\")"
   ]
  }
 ],
 "metadata": {
  "kernelspec": {
   "display_name": "Python 3 (ipykernel)",
   "language": "python",
   "name": "python3"
  },
  "language_info": {
   "codemirror_mode": {
    "name": "ipython",
    "version": 3
   },
   "file_extension": ".py",
   "mimetype": "text/x-python",
   "name": "python",
   "nbconvert_exporter": "python",
   "pygments_lexer": "ipython3",
   "version": "3.9.16"
  }
 },
 "nbformat": 4,
 "nbformat_minor": 5
}
