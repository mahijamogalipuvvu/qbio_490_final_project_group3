{
 "cells": [
  {
   "cell_type": "markdown",
   "id": "dd14254f",
   "metadata": {},
   "source": [
    "Import Necessary libraries and change directory"
   ]
  },
  {
   "cell_type": "code",
   "execution_count": 1,
   "id": "27cfc48b",
   "metadata": {},
   "outputs": [],
   "source": [
    "import cptac\n",
    "import numpy as np\n",
    "import pandas as pd\n",
    "import os\n",
    "import matplotlib.pyplot as plt\n",
    "\n",
    "import warnings\n",
    "warnings.filterwarnings('ignore')"
   ]
  },
  {
   "cell_type": "code",
   "execution_count": 2,
   "id": "75b730bd",
   "metadata": {},
   "outputs": [],
   "source": [
    "os.chdir('/mnt/c/Users/alanx/OneDrive/Desktop/QBIO490/analysis_data/')"
   ]
  },
  {
   "cell_type": "code",
   "execution_count": 74,
   "id": "020a5425",
   "metadata": {},
   "outputs": [
    {
     "name": "stdout",
     "output_type": "stream",
     "text": [
      "                                        \r"
     ]
    }
   ],
   "source": [
    "# Downloading and loading GBM Data from CPTAC\n",
    "cptac.download('GBM')\n",
    "gbm = cptac.Gbm()\n",
    "\n",
    "clinical = gbm.get_clinical() # Clinical Data\n",
    "mutation = gbm.get_somatic_mutation() # Genomic Data\n",
    "rna = gbm.get_transcriptomics() # Transcriptomic Data\n",
    "protein = gbm.get_proteomics() # Proteomic Data\n",
    "protein.columns = protein.columns.get_level_values(0) # Fix protein data columns"
   ]
  },
  {
   "cell_type": "code",
   "execution_count": 75,
   "id": "a9febdbc",
   "metadata": {},
   "outputs": [],
   "source": [
    "# Let's first screen out patients that don't have protein or rna info\n",
    "clic_i = clinical.index\n",
    "rna_i = rna.index\n",
    "p_i = protein.index\n",
    "\n",
    "union = np.intersect1d(clic_i,rna_i)\n",
    "union = np.intersect1d(union,p_i)\n",
    "\n",
    "clinical = clinical.loc[union,:]\n",
    "rna = rna.loc[union,:]\n",
    "protein = protein.loc[union,:]"
   ]
  },
  {
   "cell_type": "code",
   "execution_count": 76,
   "id": "2262c424",
   "metadata": {},
   "outputs": [],
   "source": [
    "# Only retaining cancerous tissues\n",
    "cancer_mask = clinical.loc[:,\"Sample_Tumor_Normal\"] == \"Tumor\"\n",
    "clinical_ca = clinical.loc[cancer_mask,:]\n",
    "rna_ca = rna.loc[cancer_mask,:]\n",
    "protein_ca = protein.loc[cancer_mask,:]"
   ]
  },
  {
   "cell_type": "code",
   "execution_count": 77,
   "id": "9c62ace5",
   "metadata": {},
   "outputs": [],
   "source": [
    "# Retaining only patients with vital status info\n",
    "vit_mask = clinical_ca.loc[:,\"vital_status\"].notna()\n",
    "clinical_ca_vit = clinical_ca.loc[vit_mask,:]\n",
    "rna_ca_vit = rna_ca.loc[vit_mask,:]\n",
    "protein_ca_vit = protein_ca.loc[vit_mask,:]"
   ]
  },
  {
   "cell_type": "code",
   "execution_count": 79,
   "id": "ed46a3f8",
   "metadata": {},
   "outputs": [
    {
     "data": {
      "text/plain": [
       "0"
      ]
     },
     "execution_count": 79,
     "metadata": {},
     "output_type": "execute_result"
    }
   ],
   "source": [
    "# Retaining patients with ALDOB protein expression & ALDOB RNA Expression\n",
    "aldob_p = protein_ca_vit.loc[:,\"ALDOB\"].notna()\n",
    "sum(aldob_p == False)\n",
    "\n",
    "aldob_r = rna_ca_vit.loc[:,'ALDOB'].notna() \n",
    "sum(aldob_r.loc[:,\"ENSG00000136872.16\"] == False) # alias or ALDOB"
   ]
  },
  {
   "cell_type": "code",
   "execution_count": 81,
   "id": "45c6a16c",
   "metadata": {},
   "outputs": [
    {
     "data": {
      "text/plain": [
       "0"
      ]
     },
     "execution_count": 81,
     "metadata": {},
     "output_type": "execute_result"
    }
   ],
   "source": [
    "# Retaining patients with SCL2A5 RNA/Protein Expression\n",
    "slc_p = protein_ca_vit.loc[:,\"SLC2A5\"].notna()\n",
    "sum(slc_p == False)\n",
    "\n",
    "slc_r = rna_ca_vit.loc[:,\"SLC2A5\"].notna() \n",
    "sum(slc_r.loc[:,'ENSG00000142583.16'] == False) #alias for slc2a5"
   ]
  },
  {
   "cell_type": "code",
   "execution_count": 82,
   "id": "f28efd3b",
   "metadata": {},
   "outputs": [
    {
     "data": {
      "text/html": [
       "<div>\n",
       "<style scoped>\n",
       "    .dataframe tbody tr th:only-of-type {\n",
       "        vertical-align: middle;\n",
       "    }\n",
       "\n",
       "    .dataframe tbody tr th {\n",
       "        vertical-align: top;\n",
       "    }\n",
       "\n",
       "    .dataframe thead th {\n",
       "        text-align: right;\n",
       "    }\n",
       "</style>\n",
       "<table border=\"1\" class=\"dataframe\">\n",
       "  <thead>\n",
       "    <tr style=\"text-align: right;\">\n",
       "      <th></th>\n",
       "      <th>ALDOB_RNA</th>\n",
       "      <th>SLC2A5_RNA</th>\n",
       "      <th>ALDOB_P</th>\n",
       "      <th>SLC2A5_P</th>\n",
       "    </tr>\n",
       "    <tr>\n",
       "      <th>Patient_ID</th>\n",
       "      <th></th>\n",
       "      <th></th>\n",
       "      <th></th>\n",
       "      <th></th>\n",
       "    </tr>\n",
       "  </thead>\n",
       "  <tbody>\n",
       "    <tr>\n",
       "      <th>C3L-00104</th>\n",
       "      <td>2142.339921</td>\n",
       "      <td>127791.605887</td>\n",
       "      <td>0.448224</td>\n",
       "      <td>-0.203176</td>\n",
       "    </tr>\n",
       "    <tr>\n",
       "      <th>C3L-00365</th>\n",
       "      <td>216.243136</td>\n",
       "      <td>132562.373061</td>\n",
       "      <td>0.092742</td>\n",
       "      <td>-0.220352</td>\n",
       "    </tr>\n",
       "    <tr>\n",
       "      <th>C3L-00674</th>\n",
       "      <td>632.553079</td>\n",
       "      <td>286774.218581</td>\n",
       "      <td>0.729797</td>\n",
       "      <td>0.400117</td>\n",
       "    </tr>\n",
       "    <tr>\n",
       "      <th>C3L-00677</th>\n",
       "      <td>898.176634</td>\n",
       "      <td>67263.204125</td>\n",
       "      <td>-0.067300</td>\n",
       "      <td>-0.337668</td>\n",
       "    </tr>\n",
       "    <tr>\n",
       "      <th>C3L-01040</th>\n",
       "      <td>3745.732746</td>\n",
       "      <td>93170.113644</td>\n",
       "      <td>-0.704124</td>\n",
       "      <td>-0.299337</td>\n",
       "    </tr>\n",
       "    <tr>\n",
       "      <th>...</th>\n",
       "      <td>...</td>\n",
       "      <td>...</td>\n",
       "      <td>...</td>\n",
       "      <td>...</td>\n",
       "    </tr>\n",
       "    <tr>\n",
       "      <th>C3N-03088</th>\n",
       "      <td>4501.802972</td>\n",
       "      <td>292408.533493</td>\n",
       "      <td>-0.256082</td>\n",
       "      <td>0.955101</td>\n",
       "    </tr>\n",
       "    <tr>\n",
       "      <th>C3N-03182</th>\n",
       "      <td>0.000000</td>\n",
       "      <td>271901.696800</td>\n",
       "      <td>-0.468068</td>\n",
       "      <td>0.400563</td>\n",
       "    </tr>\n",
       "    <tr>\n",
       "      <th>C3N-03183</th>\n",
       "      <td>0.000000</td>\n",
       "      <td>154182.447020</td>\n",
       "      <td>-0.582615</td>\n",
       "      <td>0.284600</td>\n",
       "    </tr>\n",
       "    <tr>\n",
       "      <th>C3N-03186</th>\n",
       "      <td>659.477483</td>\n",
       "      <td>209624.569159</td>\n",
       "      <td>0.404613</td>\n",
       "      <td>0.400630</td>\n",
       "    </tr>\n",
       "    <tr>\n",
       "      <th>C3N-03188</th>\n",
       "      <td>1225.215424</td>\n",
       "      <td>104392.454609</td>\n",
       "      <td>-0.218526</td>\n",
       "      <td>-0.133494</td>\n",
       "    </tr>\n",
       "  </tbody>\n",
       "</table>\n",
       "<p>93 rows × 4 columns</p>\n",
       "</div>"
      ],
      "text/plain": [
       "              ALDOB_RNA     SLC2A5_RNA   ALDOB_P  SLC2A5_P\n",
       "Patient_ID                                                \n",
       "C3L-00104   2142.339921  127791.605887  0.448224 -0.203176\n",
       "C3L-00365    216.243136  132562.373061  0.092742 -0.220352\n",
       "C3L-00674    632.553079  286774.218581  0.729797  0.400117\n",
       "C3L-00677    898.176634   67263.204125 -0.067300 -0.337668\n",
       "C3L-01040   3745.732746   93170.113644 -0.704124 -0.299337\n",
       "...                 ...            ...       ...       ...\n",
       "C3N-03088   4501.802972  292408.533493 -0.256082  0.955101\n",
       "C3N-03182      0.000000  271901.696800 -0.468068  0.400563\n",
       "C3N-03183      0.000000  154182.447020 -0.582615  0.284600\n",
       "C3N-03186    659.477483  209624.569159  0.404613  0.400630\n",
       "C3N-03188   1225.215424  104392.454609 -0.218526 -0.133494\n",
       "\n",
       "[93 rows x 4 columns]"
      ]
     },
     "execution_count": 82,
     "metadata": {},
     "output_type": "execute_result"
    }
   ],
   "source": [
    "# Constructing the data and target columns\n",
    "data = rna_ca_vit.loc[:,['ALDOB','SLC2A5']]\n",
    "data = data.join(protein_ca_vit.loc[:,['ALDOB','SLC2A5']])\n",
    "data.columns = ['ALDOB_RNA', 'SLC2A5_RNA', 'ALDOB_P', 'SLC2A5_P']\n",
    "data"
   ]
  },
  {
   "cell_type": "code",
   "execution_count": 84,
   "id": "256c621e",
   "metadata": {},
   "outputs": [
    {
     "data": {
      "text/plain": [
       "Patient_ID\n",
       "C3L-00104    Deceased\n",
       "C3L-00365    Deceased\n",
       "C3L-00674    Deceased\n",
       "C3L-00677    Deceased\n",
       "C3L-01040      Living\n",
       "               ...   \n",
       "C3N-03088    Deceased\n",
       "C3N-03182      Living\n",
       "C3N-03183    Deceased\n",
       "C3N-03186      Living\n",
       "C3N-03188      Living\n",
       "Name: vital_status, Length: 93, dtype: object"
      ]
     },
     "execution_count": 84,
     "metadata": {},
     "output_type": "execute_result"
    }
   ],
   "source": [
    "clinical_ca_vit.loc[:,'vital_status']"
   ]
  },
  {
   "cell_type": "code",
   "execution_count": 100,
   "id": "7f05534a",
   "metadata": {
    "scrolled": false
   },
   "outputs": [
    {
     "data": {
      "text/plain": [
       "Text(0.5, 0, 'ML Method')"
      ]
     },
     "execution_count": 100,
     "metadata": {},
     "output_type": "execute_result"
    },
    {
     "data": {
      "image/png": "[encoded data removed]",
      "text/plain": [
       "<Figure size 640x480 with 1 Axes>"
      ]
     },
     "metadata": {},
     "output_type": "display_data"
    }
   ],
   "source": [
    "# Import necessary packages\n",
    "from sklearn.model_selection import train_test_split\n",
    "from sklearn.preprocessing import StandardScaler\n",
    "from sklearn.neighbors import KNeighborsClassifier # default number of neighbors looked at is 5\n",
    "from sklearn.tree import DecisionTreeClassifier\n",
    "from sklearn.neural_network import MLPClassifier\n",
    "from sklearn.naive_bayes import GaussianNB\n",
    "from sklearn.preprocessing import OrdinalEncoder\n",
    "\n",
    "# Scaling the Data\n",
    "scaler = StandardScaler()\n",
    "data_x = scaler.fit_transform(data)\n",
    "\n",
    "# Encoding the Result\n",
    "encoder = OrdinalEncoder()\n",
    "target = encoder.fit_transform(clinical_ca_vit.loc[:,'vital_status'].to_frame())\n",
    "\n",
    "# set classifiers\n",
    "classifiers = [\n",
    "    KNeighborsClassifier(),\n",
    "    DecisionTreeClassifier(),\n",
    "    MLPClassifier(),\n",
    "    GaussianNB()\n",
    "]\n",
    "\n",
    "classifiers_names = ['Nearest Neighbors', 'Decision Tree', 'Multilayer Perceptron', 'Naive-Bayes']\n",
    "\n",
    "X_train, X_test, y_train, y_test = train_test_split(data_x, target, train_size=0.7)\n",
    "\n",
    "# Training; testing and plotting\n",
    "result = []\n",
    "for i in range(len(classifiers)):\n",
    "    model = classifiers[i]\n",
    "    model.fit(X_train,y_train)\n",
    "    y_pred = model.predict(X_test)\n",
    "    count = 0\n",
    "    for j in range(len(y_pred)):\n",
    "        if y_pred[j] == y_test[j]:\n",
    "            count += 1\n",
    "    result.append(count / len(y_test))\n",
    "fig, axs = plt.subplots(1,1, constrained_layout=True)\n",
    "axs.bar(classifiers_names,result)\n",
    "axs.set_title(\"Accuracy of ML Methods to Determine Patient's Vital Status\")\n",
    "axs.set_ylabel(\"Accuracy\")\n",
    "axs.set_xlabel(\"ML Method\")"
   ]
  }
 ],
 "metadata": {
  "kernelspec": {
   "display_name": "Python 3 (ipykernel)",
   "language": "python",
   "name": "python3"
  },
  "language_info": {
   "codemirror_mode": {
    "name": "ipython",
    "version": 3
   },
   "file_extension": ".py",
   "mimetype": "text/x-python",
   "name": "python",
   "nbconvert_exporter": "python",
   "pygments_lexer": "ipython3",
   "version": "3.9.16"
  }
 },
 "nbformat": 4,
 "nbformat_minor": 5
}
